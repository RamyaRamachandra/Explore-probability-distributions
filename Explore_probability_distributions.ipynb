{
 "cells": [
  {
   "cell_type": "code",
   "execution_count": null,
   "id": "bc9578b5",
   "metadata": {},
   "outputs": [],
   "source": [
    "# Import relevant libraries, packages, and modules.\n",
    "import numpy as np\n",
    "import pandas as pd\n",
    "import matplotlib.pyplot as plt\n",
    "import statsmodels.api as sm\n",
    "from scipy import stats"
   ]
  },
  {
   "cell_type": "code",
   "execution_count": null,
   "id": "6272b127",
   "metadata": {},
   "outputs": [],
   "source": [
    "# RUN THIS CELL TO IMPORT YOUR DATA.\n",
    "data = pd.read_csv(\"modified_c4_epa_air_quality.csv\")"
   ]
  },
  {
   "cell_type": "code",
   "execution_count": null,
   "id": "a1ebc038",
   "metadata": {},
   "outputs": [],
   "source": [
    "# Display first 10 rows of the data.\n",
    "data.head(10)"
   ]
  },
  {
   "cell_type": "code",
   "execution_count": null,
   "id": "19910030",
   "metadata": {},
   "outputs": [],
   "source": [
    "# Display number of rows, number of columns.\n",
    "data.shape"
   ]
  },
  {
   "cell_type": "code",
   "execution_count": null,
   "id": "fc995112",
   "metadata": {},
   "outputs": [],
   "source": [
    "(260, 8)"
   ]
  },
  {
   "cell_type": "code",
   "execution_count": null,
   "id": "5b12108e",
   "metadata": {},
   "outputs": [],
   "source": [
    "# Create a histogram to visualize distribution of aqi_log.\n",
    "data['aqi_log'].hist();"
   ]
  },
  {
   "cell_type": "code",
   "execution_count": null,
   "id": "1e1b313d",
   "metadata": {},
   "outputs": [],
   "source": [
    "# Define variable for aqi_log mean.\n",
    "mean_aqi_log = data['aqi_log'].mean()\n",
    "\n",
    "# Print out the mean.\n",
    "print(mean_aqi_log)"
   ]
  },
  {
   "cell_type": "code",
   "execution_count": null,
   "id": "143cd6a8",
   "metadata": {},
   "outputs": [],
   "source": [
    "1.7669210929985577"
   ]
  },
  {
   "cell_type": "code",
   "execution_count": null,
   "id": "2b76ca0a",
   "metadata": {},
   "outputs": [],
   "source": [
    "# Define variable for aqi_log standard deviation.\n",
    "aqi_log_std = data['aqi_log'].std()\n",
    "\n",
    "# Print out the standard deviation.\n",
    "print(aqi_log_std)"
   ]
  },
  {
   "cell_type": "code",
   "execution_count": null,
   "id": "ab728839",
   "metadata": {},
   "outputs": [],
   "source": [
    "0.7147155520223721"
   ]
  },
  {
   "cell_type": "code",
   "execution_count": null,
   "id": "483dfd55",
   "metadata": {},
   "outputs": [],
   "source": [
    "# Define variable for lower limit, 1 standard deviation below the mean.\n",
    "lower_limit = mean_aqi_log - 1 * aqi_log_std\n",
    "\n",
    "# Define variable for upper limit, 1 standard deviation above the mean.\n",
    "upper_limit = mean_aqi_log + 1 * aqi_log_std\n",
    "\n",
    "# Display lower_limit, upper_limit.\n",
    "print(lower_limit, upper_limit)"
   ]
  },
  {
   "cell_type": "code",
   "execution_count": null,
   "id": "44ce5e69",
   "metadata": {},
   "outputs": [],
   "source": [
    "1.0522055409761855 2.48163664502093"
   ]
  },
  {
   "cell_type": "code",
   "execution_count": null,
   "id": "4657fc26",
   "metadata": {},
   "outputs": [],
   "source": [
    "# Display the actual percentage of data that falls within 1 standard deviation of the mean.\n",
    "((data['aqi_log'] >= lower_limit) & (data['aqi_log'] <= upper_limit)).mean() * 100"
   ]
  },
  {
   "cell_type": "code",
   "execution_count": null,
   "id": "48ed6b07",
   "metadata": {},
   "outputs": [],
   "source": [
    "76.15384615384615"
   ]
  },
  {
   "cell_type": "code",
   "execution_count": null,
   "id": "7cad6d59",
   "metadata": {},
   "outputs": [],
   "source": [
    "# Define variable for lower limit, 2 standard deviations below the mean.\n",
    "lower_limit = mean_aqi_log - 2 * aqi_log_std\n",
    "\n",
    "# Define variable for upper limit, 2 standard deviations below the mean.\n",
    "upper_limit = mean_aqi_log + 2 * aqi_log_std\n",
    "\n",
    "# Display lower_limit, upper_limit.\n",
    "print(lower_limit, upper_limit)"
   ]
  },
  {
   "cell_type": "code",
   "execution_count": null,
   "id": "4a4c72ca",
   "metadata": {},
   "outputs": [],
   "source": [
    "0.33748998895381344 3.1963521970433018"
   ]
  },
  {
   "cell_type": "code",
   "execution_count": null,
   "id": "f411276e",
   "metadata": {},
   "outputs": [],
   "source": [
    "# Display the actual percentage of data that falls within 2 standard deviations of the mean.\n",
    "((data['aqi_log'] >= lower_limit) & (data['aqi_log'] <= upper_limit)).mean() * 100"
   ]
  },
  {
   "cell_type": "code",
   "execution_count": null,
   "id": "046271da",
   "metadata": {},
   "outputs": [],
   "source": [
    "95.76923076923077"
   ]
  },
  {
   "cell_type": "code",
   "execution_count": null,
   "id": "dd119f12",
   "metadata": {},
   "outputs": [],
   "source": [
    "# Define variable for lower limit, 3 standard deviations below the mean.\n",
    "lower_limit = mean_aqi_log - 3 * aqi_log_std\n",
    "\n",
    "# Define variable for upper limit, 3 standard deviations above the mean.\n",
    "upper_limit = mean_aqi_log + 3 * aqi_log_std\n",
    "\n",
    "# Display lower_limit, upper_limit.\n",
    "print(lower_limit, upper_limit)"
   ]
  },
  {
   "cell_type": "code",
   "execution_count": null,
   "id": "cae82054",
   "metadata": {},
   "outputs": [],
   "source": [
    "-0.3772255630685586 3.911067749065674"
   ]
  },
  {
   "cell_type": "code",
   "execution_count": null,
   "id": "830be48a",
   "metadata": {},
   "outputs": [],
   "source": [
    "# Display the actual percentage of data that falls within 3 standard deviations of the mean.\n",
    "\n",
    "((data['aqi_log'] >= lower_limit) & (data['aqi_log'] <= upper_limit)).mean() * 100"
   ]
  },
  {
   "cell_type": "code",
   "execution_count": null,
   "id": "d03e55cb",
   "metadata": {},
   "outputs": [],
   "source": [
    "99.61538461538461"
   ]
  },
  {
   "cell_type": "code",
   "execution_count": null,
   "id": "8adbfe51",
   "metadata": {},
   "outputs": [],
   "source": [
    "# Compute the z-score for every aqi_log value, and add a column named z_score in the data to store those results.\n",
    "data['z_score'] = stats.zscore(data['aqi_log'], ddof=1)\n",
    "\n",
    "# Display the first 5 rows to ensure that the new column was added.\n",
    "data.head()"
   ]
  },
  {
   "cell_type": "code",
   "execution_count": null,
   "id": "9d3f6fd7",
   "metadata": {},
   "outputs": [],
   "source": [
    "# Display data where `aqi_log` is above or below 3 standard deviations of the mean\n",
    "\n",
    "data[(data['z_score'] > 3) | (data['z_score'] < -3)]"
   ]
  },
  {
   "cell_type": "markdown",
   "id": "37661506",
   "metadata": {},
   "source": [
    "Activity: Explore probability distributions¶"
   ]
  },
  {
   "cell_type": "markdown",
   "id": "c04be5c8",
   "metadata": {},
   "source": [
    "Introduction¶"
   ]
  },
  {
   "cell_type": "markdown",
   "id": "8687fdbd",
   "metadata": {},
   "source": [
    "The ability to determine which type of probability distribution best fits data, calculate z-score, and detect outliers are essential skills in data work. These capabilities enable data professionals to understand how their data is distributed and identify data points that need further examination."
   ]
  },
  {
   "cell_type": "markdown",
   "id": "5daae0e3",
   "metadata": {},
   "source": [
    "In this activity, you are a member of an analytics team for the United States Environmental Protection Agency (EPA). The data includes information about more than 200 sites, identified by state, county, city, and local site names. One of your main goals is to determine which regions need support to make air quality improvements. Given that carbon monoxide is a major air pollutant, you will investigate data from the Air Quality Index (AQI) with respect to carbon monoxide."
   ]
  },
  {
   "cell_type": "markdown",
   "id": "ca9c118f",
   "metadata": {},
   "source": [
    "Step 1: Imports¶"
   ]
  },
  {
   "cell_type": "markdown",
   "id": "2d5302ed",
   "metadata": {},
   "source": [
    "Import relevant libraries, packages, and modules. For this lab, you will need numpy, pandas, matplotlib.pyplot, statsmodels.api, and scipy."
   ]
  },
  {
   "cell_type": "markdown",
   "id": "7d64354a",
   "metadata": {},
   "source": [
    "A subset of data was taken from the air quality data collected by the EPA, then transformed to suit the purposes of this lab. This subset is a .csv file named modified_c4_epa_air_quality.csv. As shown in this cell, the dataset has been automatically loaded in for you. You do not need to download the .csv file, or provide more code, in order to access the dataset and proceed with this lab. Please continue with this activity by completing the following instructions."
   ]
  },
  {
   "cell_type": "markdown",
   "id": "7d4606b1",
   "metadata": {},
   "source": [
    "Step 2: Data exploration¶"
   ]
  },
  {
   "cell_type": "markdown",
   "id": "7e928c15",
   "metadata": {},
   "source": [
    "Display the first 10 rows of the data to get a sense of how the data is structured."
   ]
  },
  {
   "cell_type": "markdown",
   "id": "904fda5d",
   "metadata": {},
   "source": [
    "The aqi_log column represents AQI readings that were transformed logarithmically to suit the objectives of this lab. Taking a logarithm of the aqi to get a bell-shaped distribution is outside the scope of this course, but is helpful to see the normal distribution."
   ]
  },
  {
   "cell_type": "markdown",
   "id": "9befdc90",
   "metadata": {},
   "source": [
    "To better understand the quantity of data you are working with, display the number of rows and the number of columns."
   ]
  },
  {
   "cell_type": "markdown",
   "id": "c3004d59",
   "metadata": {},
   "source": [
    "Now, you want to find out whether aqi_log fits a specific type of probability distribution. Create a histogram to visualize the distribution of aqi_log. Then, based on its shape, visually determine if it resembles a particular distribution."
   ]
  },
  {
   "cell_type": "markdown",
   "id": "872d67f8",
   "metadata": {},
   "source": [
    "Question: What do you observe about the shape of the distribution from the histogram?"
   ]
  },
  {
   "cell_type": "markdown",
   "id": "57a5438e",
   "metadata": {},
   "source": [
    "There is slight right skew, but it still appears to be bell shape. This shape suggests that the distributiom of this data should be approximately normal."
   ]
  },
  {
   "cell_type": "markdown",
   "id": "7d259ec0",
   "metadata": {},
   "source": [
    "Step 3: Statistical tests¶"
   ]
  },
  {
   "cell_type": "markdown",
   "id": "09c5cd97",
   "metadata": {},
   "source": [
    "Use the empirical rule to observe the data, then test and verify that it is normally distributed."
   ]
  },
  {
   "cell_type": "markdown",
   "id": "6f082f6e",
   "metadata": {},
   "source": [
    "As you have learned, the empirical rule states that, for every normal distribution:"
   ]
  },
  {
   "cell_type": "markdown",
   "id": "d128a0c8",
   "metadata": {},
   "source": [
    "First, define two variables to store the mean and standard deviation, respectively, for aqi_log. Creating these variables will help you easily access these measures as you continue with the calculations involved in applying the empirical rule."
   ]
  },
  {
   "cell_type": "markdown",
   "id": "c2165c63",
   "metadata": {},
   "source": [
    "Now, check the first part of the empirical rule: whether 68% of the aqi_log data falls within 1 standard deviation of the mean."
   ]
  },
  {
   "cell_type": "markdown",
   "id": "e9b42a49",
   "metadata": {},
   "source": [
    "To compute the actual percentage of the data that satisfies this criteria, define the lower limit (for example, 1 standard deviation below the mean) and the upper limit (for example, 1 standard deviation above the mean). This will enable you to create a range and confirm whether each value falls within it."
   ]
  },
  {
   "cell_type": "markdown",
   "id": "7f5c7040",
   "metadata": {},
   "source": [
    "Now, consider the second part of the empirical rule: whether 95% of the aqi_log data falls within 2 standard deviations of the mean."
   ]
  },
  {
   "cell_type": "markdown",
   "id": "ce85da9a",
   "metadata": {},
   "source": [
    "To compute the actual percentage of the data that satisfies this criteria, define the lower limit (for example, 2 standard deviations below the mean) and the upper limit (for example, 2 standard deviations above the mean). This will enable you to create a range and confirm whether each value falls within it."
   ]
  },
  {
   "cell_type": "markdown",
   "id": "46ae8155",
   "metadata": {},
   "source": [
    "Now, consider the third part of the empirical rule:whether 99.7% of the aqi_log data falls within 3 standard deviations of the mean."
   ]
  },
  {
   "cell_type": "markdown",
   "id": "c75a8f98",
   "metadata": {},
   "source": [
    "To compute the actual percentage of the data that satisfies this criteria, define the lower limit (for example, 3 standard deviations below the mean) and the upper limit (for example, 3 standard deviations above the mean). This will enable you to create a range and confirm whether each value falls within it."
   ]
  },
  {
   "cell_type": "markdown",
   "id": "6d4617f1",
   "metadata": {},
   "source": [
    "Step 4: Results and evaluation¶"
   ]
  },
  {
   "cell_type": "markdown",
   "id": "1b05dc60",
   "metadata": {},
   "source": [
    "Question: What results did you attain by applying the empirical rule?"
   ]
  },
  {
   "cell_type": "markdown",
   "id": "28c24d87",
   "metadata": {},
   "source": [
    "The 95.77% is very close to 95%, and the 99.62% is very close to 99.7%. The 76.15% is not as close to 68%, but relatively close. Overall, from applying the empirical rule, the data appears to be not exactly normal, but could be approximately normal."
   ]
  },
  {
   "cell_type": "markdown",
   "id": "6a12b6bf",
   "metadata": {},
   "source": [
    "Question: How would you use z-score to find outliers?"
   ]
  },
  {
   "cell_type": "markdown",
   "id": "314e4c0c",
   "metadata": {},
   "source": [
    "Since z-score indicates the relative position of values (for instance, z-score measures how many standard deviations below or above the mean a data point is), it can be used to detect outliers."
   ]
  },
  {
   "cell_type": "markdown",
   "id": "8a2c77ff",
   "metadata": {},
   "source": [
    "Z-score could be used to identify values that lie more than 3 standard deviations below or above the mean. These values may be considered outliers."
   ]
  },
  {
   "cell_type": "markdown",
   "id": "119639bb",
   "metadata": {},
   "source": [
    "Compute the z-score for every aqi_log value. Then, add a column named z_score in the data to store those results."
   ]
  },
  {
   "cell_type": "markdown",
   "id": "2a1ee974",
   "metadata": {},
   "source": [
    "Identify the parts of the data where aqi_log is above or below 3 standard deviations of the mean."
   ]
  },
  {
   "cell_type": "markdown",
   "id": "2b6a5aaa",
   "metadata": {},
   "source": [
    "Question: What do you observe about potential outliers based on the calculations?"
   ]
  },
  {
   "cell_type": "markdown",
   "id": "75b8fdf3",
   "metadata": {},
   "source": [
    "The aqi_log for WEST PHOENIX is slightly above 3 standard deviations of the mean. This means that the air quality at that site is worse than the rest of the site is worse than the rest of the sites represented in the data."
   ]
  },
  {
   "cell_type": "markdown",
   "id": "88934b92",
   "metadata": {},
   "source": [
    "Question: Why is outlier detection an important part of this project?"
   ]
  },
  {
   "cell_type": "markdown",
   "id": "13c996ea",
   "metadata": {},
   "source": [
    "Detecting outliers is important because they can reveal two important things, depending on the context: First, they can identify measurements that were taken incorrectly. Second, they can highlight parts of the data that can be focused on to make improvements."
   ]
  },
  {
   "cell_type": "markdown",
   "id": "ec3edbb5",
   "metadata": {},
   "source": [
    "Considerations¶"
   ]
  },
  {
   "cell_type": "markdown",
   "id": "4a52510d",
   "metadata": {},
   "source": [
    "What are some key takeaways that you learned during this lab?"
   ]
  },
  {
   "cell_type": "markdown",
   "id": "49d2851b",
   "metadata": {},
   "source": [
    "What summary would you provide to stakeholders? Consider the distribution of the data and which sites would benefit from additional research."
   ]
  },
  {
   "cell_type": "markdown",
   "id": "ca0b81f2",
   "metadata": {},
   "source": [
    "Reference"
   ]
  },
  {
   "cell_type": "markdown",
   "id": "c24586d3",
   "metadata": {},
   "source": [
    "US EPA, OAR. 2014, July 8. Air Data: Air Quality Data Collected at Outdoor Monitors Across the US."
   ]
  },
  {
   "cell_type": "markdown",
   "id": "8f7eda93",
   "metadata": {},
   "source": [
    "Congratulations! You've completed this lab. However, you may not notice a green check mark next to this item on Coursera's platform. Please continue your progress regardless of the check mark. Just click on the \"save\" icon at the top of this notebook to ensure your work has been logged."
   ]
  }
 ],
 "metadata": {},
 "nbformat": 4,
 "nbformat_minor": 5
}
